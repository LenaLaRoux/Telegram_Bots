{
  "nbformat": 4,
  "nbformat_minor": 0,
  "metadata": {
    "colab": {
      "name": "Untitled0.ipynb",
      "provenance": [],
      "authorship_tag": "ABX9TyPWqW0ArLf/0YcrS60arHQE",
      "include_colab_link": true
    },
    "kernelspec": {
      "name": "python3",
      "display_name": "Python 3"
    },
    "language_info": {
      "name": "python"
    }
  },
  "cells": [
    {
      "cell_type": "markdown",
      "metadata": {
        "id": "view-in-github",
        "colab_type": "text"
      },
      "source": [
        "<a href=\"https://colab.research.google.com/github/LenaLaRoux/Telegram_Bots/blob/main/Telegram_WB.ipynb\" target=\"_parent\"><img src=\"https://colab.research.google.com/assets/colab-badge.svg\" alt=\"Open In Colab\"/></a>"
      ]
    },
    {
      "cell_type": "code",
      "source": [
        "pip install python-telegram-bot"
      ],
      "metadata": {
        "colab": {
          "base_uri": "https://localhost:8080/",
          "height": 658
        },
        "id": "zuR68Ae7Xx6n",
        "outputId": "0d105767-9939-4e42-df58-a27e57031ae3"
      },
      "execution_count": 2,
      "outputs": [
        {
          "output_type": "stream",
          "name": "stdout",
          "text": [
            "Collecting python-telegram-bot\n",
            "  Downloading python_telegram_bot-13.10-py3-none-any.whl (497 kB)\n",
            "\u001b[?25l\r\u001b[K     |▋                               | 10 kB 30.8 MB/s eta 0:00:01\r\u001b[K     |█▎                              | 20 kB 32.9 MB/s eta 0:00:01\r\u001b[K     |██                              | 30 kB 18.5 MB/s eta 0:00:01\r\u001b[K     |██▋                             | 40 kB 15.3 MB/s eta 0:00:01\r\u001b[K     |███▎                            | 51 kB 5.5 MB/s eta 0:00:01\r\u001b[K     |████                            | 61 kB 6.0 MB/s eta 0:00:01\r\u001b[K     |████▋                           | 71 kB 5.4 MB/s eta 0:00:01\r\u001b[K     |█████▎                          | 81 kB 6.1 MB/s eta 0:00:01\r\u001b[K     |██████                          | 92 kB 6.1 MB/s eta 0:00:01\r\u001b[K     |██████▋                         | 102 kB 5.2 MB/s eta 0:00:01\r\u001b[K     |███████▎                        | 112 kB 5.2 MB/s eta 0:00:01\r\u001b[K     |████████                        | 122 kB 5.2 MB/s eta 0:00:01\r\u001b[K     |████████▋                       | 133 kB 5.2 MB/s eta 0:00:01\r\u001b[K     |█████████▏                      | 143 kB 5.2 MB/s eta 0:00:01\r\u001b[K     |█████████▉                      | 153 kB 5.2 MB/s eta 0:00:01\r\u001b[K     |██████████▌                     | 163 kB 5.2 MB/s eta 0:00:01\r\u001b[K     |███████████▏                    | 174 kB 5.2 MB/s eta 0:00:01\r\u001b[K     |███████████▉                    | 184 kB 5.2 MB/s eta 0:00:01\r\u001b[K     |████████████▌                   | 194 kB 5.2 MB/s eta 0:00:01\r\u001b[K     |█████████████▏                  | 204 kB 5.2 MB/s eta 0:00:01\r\u001b[K     |█████████████▉                  | 215 kB 5.2 MB/s eta 0:00:01\r\u001b[K     |██████████████▌                 | 225 kB 5.2 MB/s eta 0:00:01\r\u001b[K     |███████████████▏                | 235 kB 5.2 MB/s eta 0:00:01\r\u001b[K     |███████████████▉                | 245 kB 5.2 MB/s eta 0:00:01\r\u001b[K     |████████████████▌               | 256 kB 5.2 MB/s eta 0:00:01\r\u001b[K     |█████████████████▏              | 266 kB 5.2 MB/s eta 0:00:01\r\u001b[K     |█████████████████▉              | 276 kB 5.2 MB/s eta 0:00:01\r\u001b[K     |██████████████████▍             | 286 kB 5.2 MB/s eta 0:00:01\r\u001b[K     |███████████████████             | 296 kB 5.2 MB/s eta 0:00:01\r\u001b[K     |███████████████████▊            | 307 kB 5.2 MB/s eta 0:00:01\r\u001b[K     |████████████████████▍           | 317 kB 5.2 MB/s eta 0:00:01\r\u001b[K     |█████████████████████           | 327 kB 5.2 MB/s eta 0:00:01\r\u001b[K     |█████████████████████▊          | 337 kB 5.2 MB/s eta 0:00:01\r\u001b[K     |██████████████████████▍         | 348 kB 5.2 MB/s eta 0:00:01\r\u001b[K     |███████████████████████         | 358 kB 5.2 MB/s eta 0:00:01\r\u001b[K     |███████████████████████▊        | 368 kB 5.2 MB/s eta 0:00:01\r\u001b[K     |████████████████████████▍       | 378 kB 5.2 MB/s eta 0:00:01\r\u001b[K     |█████████████████████████       | 389 kB 5.2 MB/s eta 0:00:01\r\u001b[K     |█████████████████████████▊      | 399 kB 5.2 MB/s eta 0:00:01\r\u001b[K     |██████████████████████████▍     | 409 kB 5.2 MB/s eta 0:00:01\r\u001b[K     |███████████████████████████     | 419 kB 5.2 MB/s eta 0:00:01\r\u001b[K     |███████████████████████████▋    | 430 kB 5.2 MB/s eta 0:00:01\r\u001b[K     |████████████████████████████▎   | 440 kB 5.2 MB/s eta 0:00:01\r\u001b[K     |█████████████████████████████   | 450 kB 5.2 MB/s eta 0:00:01\r\u001b[K     |█████████████████████████████▋  | 460 kB 5.2 MB/s eta 0:00:01\r\u001b[K     |██████████████████████████████▎ | 471 kB 5.2 MB/s eta 0:00:01\r\u001b[K     |███████████████████████████████ | 481 kB 5.2 MB/s eta 0:00:01\r\u001b[K     |███████████████████████████████▋| 491 kB 5.2 MB/s eta 0:00:01\r\u001b[K     |████████████████████████████████| 497 kB 5.2 MB/s \n",
            "\u001b[?25hRequirement already satisfied: certifi in /usr/local/lib/python3.7/dist-packages (from python-telegram-bot) (2021.10.8)\n",
            "Collecting cachetools==4.2.2\n",
            "  Downloading cachetools-4.2.2-py3-none-any.whl (11 kB)\n",
            "Requirement already satisfied: pytz>=2018.6 in /usr/local/lib/python3.7/dist-packages (from python-telegram-bot) (2018.9)\n",
            "Collecting tornado>=6.1\n",
            "  Downloading tornado-6.1-cp37-cp37m-manylinux2010_x86_64.whl (428 kB)\n",
            "\u001b[K     |████████████████████████████████| 428 kB 60.2 MB/s \n",
            "\u001b[?25hCollecting APScheduler==3.6.3\n",
            "  Downloading APScheduler-3.6.3-py2.py3-none-any.whl (58 kB)\n",
            "\u001b[K     |████████████████████████████████| 58 kB 7.0 MB/s \n",
            "\u001b[?25hRequirement already satisfied: six>=1.4.0 in /usr/local/lib/python3.7/dist-packages (from APScheduler==3.6.3->python-telegram-bot) (1.15.0)\n",
            "Requirement already satisfied: setuptools>=0.7 in /usr/local/lib/python3.7/dist-packages (from APScheduler==3.6.3->python-telegram-bot) (57.4.0)\n",
            "Requirement already satisfied: tzlocal>=1.2 in /usr/local/lib/python3.7/dist-packages (from APScheduler==3.6.3->python-telegram-bot) (1.5.1)\n",
            "Installing collected packages: tornado, cachetools, APScheduler, python-telegram-bot\n",
            "  Attempting uninstall: tornado\n",
            "    Found existing installation: tornado 5.1.1\n",
            "    Uninstalling tornado-5.1.1:\n",
            "      Successfully uninstalled tornado-5.1.1\n",
            "  Attempting uninstall: cachetools\n",
            "    Found existing installation: cachetools 4.2.4\n",
            "    Uninstalling cachetools-4.2.4:\n",
            "      Successfully uninstalled cachetools-4.2.4\n",
            "\u001b[31mERROR: pip's dependency resolver does not currently take into account all the packages that are installed. This behaviour is the source of the following dependency conflicts.\n",
            "google-colab 1.0.0 requires tornado~=5.1.0; python_version >= \"3.0\", but you have tornado 6.1 which is incompatible.\u001b[0m\n",
            "Successfully installed APScheduler-3.6.3 cachetools-4.2.2 python-telegram-bot-13.10 tornado-6.1\n"
          ]
        },
        {
          "output_type": "display_data",
          "data": {
            "application/vnd.colab-display-data+json": {
              "pip_warning": {
                "packages": [
                  "tornado"
                ]
              }
            }
          },
          "metadata": {}
        }
      ]
    },
    {
      "cell_type": "code",
      "execution_count": null,
      "metadata": {
        "colab": {
          "base_uri": "https://localhost:8080/"
        },
        "id": "kBHIf4zcOzKu",
        "outputId": "c6ebc6ba-0557-4314-f6e1-2899cf2df73e"
      },
      "outputs": [
        {
          "output_type": "stream",
          "name": "stderr",
          "text": [
            "/usr/local/lib/python3.7/dist-packages/telegram/ext/conversationhandler.py:288: UserWarning: If 'per_message=False', 'CallbackQueryHandler' will not be tracked for every message.\n",
            "  \"If 'per_message=False', 'CallbackQueryHandler' will not be \"\n",
            "2022-01-09 20:47:18,833 - apscheduler.scheduler - INFO - Scheduler started\n"
          ]
        }
      ],
      "source": [
        "import logging\n",
        "\n",
        "from telegram import InlineKeyboardButton, InlineKeyboardMarkup, ReplyKeyboardMarkup, ReplyKeyboardRemove, Update\n",
        "from telegram.ext import (\n",
        "    Updater,\n",
        "    CommandHandler,\n",
        "    MessageHandler,\n",
        "    Filters,\n",
        "    ConversationHandler,\n",
        "    CallbackContext,\n",
        "    PicklePersistence,\n",
        "    CallbackQueryHandler,\n",
        ")\n",
        "\n",
        "# Enable logging\n",
        "logging.basicConfig(\n",
        "    format='%(asctime)s - %(name)s - %(levelname)s - %(message)s', level=logging.INFO\n",
        ")\n",
        "\n",
        "logger = logging.getLogger(__name__)\n",
        "\n",
        "CREATE_REPORT = \"create-report\"\n",
        "KEYBOARD_TOKEN = \"keyboard-token\"\n",
        "CHOOSING, TYPING_REPLY, TYPING_CHOICE = range(3)\n",
        "\n",
        "\n",
        "def start(update: Update, context: CallbackContext) -> int:\n",
        "    \"\"\"Start the conversation, display any stored data and ask user for input.\"\"\"\n",
        "    reply_text = \" Привет, я помощник отчетов Wildberries\"\n",
        "    button_text = \"Создать отчет\"\n",
        "\n",
        "    update.message.reply_text(reply_text, reply_markup=build_keyboard(button_text, CREATE_REPORT))\n",
        "\n",
        "\n",
        "def build_keyboard(button_text: str, button_command: str) -> InlineKeyboardMarkup:\n",
        "    \"\"\"Helper function to build the next inline keyboard.\"\"\"\n",
        "    return InlineKeyboardMarkup.from_button(InlineKeyboardButton(text=button_text, callback_data=button_command))\n",
        "\n",
        "      \n",
        "def button_click (update: Update, context: CallbackContext) -> int:\n",
        "    reply_text = \"Введите токен API для личного кабинета\"\n",
        "    reply_keyboard = [['Token 1','Token 2'],['Token 3','Token 4']]\n",
        "    markup = ReplyKeyboardMarkup(reply_keyboard, one_time_keyboard=True, resize_keyboard=True)\n",
        "\n",
        "    update.callback_query.answer()\n",
        "    update.callback_query.message.reply_text(text=reply_text, reply_markup=markup)\n",
        "  \n",
        "    return CHOOSING\n",
        "\n",
        "\n",
        "def regular_choice(update: Update, context: CallbackContext):\n",
        "  print(Update.message.text)\n",
        "def received_information(update: Update, context: CallbackContext):\n",
        "  print(Update.message.text)\n",
        "def custom_choice(update: Update, context: CallbackContext):\n",
        "  pass\n",
        "def done():\n",
        "  pass\n",
        "\n",
        "def main() -> None:\n",
        "    \"\"\"Run the bot.\"\"\"\n",
        "    # We use persistence to demonstrate how buttons can still work after the bot was restarted\n",
        "    persistence = PicklePersistence(\n",
        "        filename='arbitrarycallbackdatabot.pickle', store_callback_data=True\n",
        "    )\n",
        "    # Create the Updater and pass it your bot's token.\n",
        "    updater = Updater(\"1811540340:AAHJmewhspWrxvSiuDmvUwWsDpdILxZJK8g\", persistence=persistence, arbitrary_callback_data=True)\n",
        "\n",
        "    entry_handler = CommandHandler('start', start)\n",
        "    create_report_button_handler = CallbackQueryHandler(button_click, pattern=f'^{CREATE_REPORT}$')\n",
        "    \n",
        "    regex_str = '^(Token 1|Token 2|Token 3|Token 4)$'\n",
        "\n",
        "    conv_handler = ConversationHandler(\n",
        "        entry_points=[create_report_button_handler],\n",
        "        states={\n",
        "            CHOOSING: [\n",
        "                \n",
        "                MessageHandler(Filters.text & Filters.regex(regex_str), regular_choice\n",
        "                ),\n",
        "                MessageHandler(\n",
        "                      Filters.text & ~( Filters.regex(regex_str)), \n",
        "                      custom_choice),\n",
        "            ],\n",
        "            TYPING_CHOICE: [\n",
        "                            \n",
        "                MessageHandler(\n",
        "                    Filters.text & ~(Filters.command | Filters.regex('^Done$')), regular_choice\n",
        "                )\n",
        "            ],\n",
        "            TYPING_REPLY: [\n",
        "                MessageHandler(\n",
        "                    Filters.text & ~(Filters.command | Filters.regex('^Done$')),\n",
        "                    received_information,\n",
        "                )\n",
        "            ],\n",
        "        },\n",
        "        fallbacks=[MessageHandler(Filters.regex('^Done$'), done)],\n",
        "        name=\"my_conversation\",\n",
        "        persistent=True\n",
        "        #per_message=True\n",
        "    )\n",
        "    \n",
        "    updater.dispatcher.add_handler(entry_handler)    \n",
        "    updater.dispatcher.add_handler(conv_handler)\n",
        "    \n",
        "    #updater.dispatcher.add_handler(conv_handler)\n",
        "    \n",
        "    # Start the Bot\n",
        "    updater.start_polling()\n",
        "\n",
        "    # Run the bot until you press Ctrl-C or the process receives SIGINT,\n",
        "    # SIGTERM or SIGABRT. This should be used most of the time, since\n",
        "    # start_polling() is non-blocking and will stop the bot gracefully.\n",
        "    updater.idle()\n",
        "\n",
        "if __name__ == '__main__':\n",
        "    main()"
      ]
    }
  ]
}